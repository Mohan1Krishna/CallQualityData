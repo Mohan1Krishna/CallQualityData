{
 "cells": [
  {
   "cell_type": "code",
   "execution_count": 4,
   "metadata": {},
   "outputs": [],
   "source": [
    "import pandas as pd\n",
    "import numpy as np"
   ]
  },
  {
   "cell_type": "code",
   "execution_count": 6,
   "metadata": {},
   "outputs": [
    {
     "data": {
      "text/html": [
       "<div>\n",
       "<style scoped>\n",
       "    .dataframe tbody tr th:only-of-type {\n",
       "        vertical-align: middle;\n",
       "    }\n",
       "\n",
       "    .dataframe tbody tr th {\n",
       "        vertical-align: top;\n",
       "    }\n",
       "\n",
       "    .dataframe thead th {\n",
       "        text-align: right;\n",
       "    }\n",
       "</style>\n",
       "<table border=\"1\" class=\"dataframe\">\n",
       "  <thead>\n",
       "    <tr style=\"text-align: right;\">\n",
       "      <th>Call Drop Category</th>\n",
       "      <th>Call Dropped</th>\n",
       "      <th>Poor Voice Quality</th>\n",
       "      <th>Satisfactory</th>\n",
       "      <th>All</th>\n",
       "    </tr>\n",
       "    <tr>\n",
       "      <th>Operator</th>\n",
       "      <th></th>\n",
       "      <th></th>\n",
       "      <th></th>\n",
       "      <th></th>\n",
       "    </tr>\n",
       "  </thead>\n",
       "  <tbody>\n",
       "    <tr>\n",
       "      <td>Airtel</td>\n",
       "      <td>4663</td>\n",
       "      <td>14092</td>\n",
       "      <td>30273</td>\n",
       "      <td>49028</td>\n",
       "    </tr>\n",
       "    <tr>\n",
       "      <td>BSNL</td>\n",
       "      <td>634</td>\n",
       "      <td>1677</td>\n",
       "      <td>7074</td>\n",
       "      <td>9385</td>\n",
       "    </tr>\n",
       "    <tr>\n",
       "      <td>Idea</td>\n",
       "      <td>1257</td>\n",
       "      <td>4443</td>\n",
       "      <td>7879</td>\n",
       "      <td>13579</td>\n",
       "    </tr>\n",
       "    <tr>\n",
       "      <td>MTNL</td>\n",
       "      <td>48</td>\n",
       "      <td>40</td>\n",
       "      <td>241</td>\n",
       "      <td>329</td>\n",
       "    </tr>\n",
       "    <tr>\n",
       "      <td>Other</td>\n",
       "      <td>27</td>\n",
       "      <td>677</td>\n",
       "      <td>345</td>\n",
       "      <td>1049</td>\n",
       "    </tr>\n",
       "    <tr>\n",
       "      <td>RJio</td>\n",
       "      <td>5649</td>\n",
       "      <td>19226</td>\n",
       "      <td>66355</td>\n",
       "      <td>91230</td>\n",
       "    </tr>\n",
       "    <tr>\n",
       "      <td>Tata</td>\n",
       "      <td>11</td>\n",
       "      <td>35</td>\n",
       "      <td>34</td>\n",
       "      <td>80</td>\n",
       "    </tr>\n",
       "    <tr>\n",
       "      <td>Telenor</td>\n",
       "      <td>1</td>\n",
       "      <td>4</td>\n",
       "      <td>5</td>\n",
       "      <td>10</td>\n",
       "    </tr>\n",
       "    <tr>\n",
       "      <td>Vodafone</td>\n",
       "      <td>1847</td>\n",
       "      <td>8334</td>\n",
       "      <td>21759</td>\n",
       "      <td>31940</td>\n",
       "    </tr>\n",
       "    <tr>\n",
       "      <td>All</td>\n",
       "      <td>14137</td>\n",
       "      <td>48528</td>\n",
       "      <td>133965</td>\n",
       "      <td>196630</td>\n",
       "    </tr>\n",
       "  </tbody>\n",
       "</table>\n",
       "</div>"
      ],
      "text/plain": [
       "Call Drop Category  Call Dropped  Poor Voice Quality  Satisfactory     All\n",
       "Operator                                                                  \n",
       "Airtel                      4663               14092         30273   49028\n",
       "BSNL                         634                1677          7074    9385\n",
       "Idea                        1257                4443          7879   13579\n",
       "MTNL                          48                  40           241     329\n",
       "Other                         27                 677           345    1049\n",
       "RJio                        5649               19226         66355   91230\n",
       "Tata                          11                  35            34      80\n",
       "Telenor                        1                   4             5      10\n",
       "Vodafone                    1847                8334         21759   31940\n",
       "All                        14137               48528        133965  196630"
      ]
     },
     "execution_count": 6,
     "metadata": {},
     "output_type": "execute_result"
    }
   ],
   "source": [
    "df=pd.read_csv(\"..//Data/Final_data.csv\")\n",
    "contingency_table = pd.crosstab(\n",
    "    df['Operator'],\n",
    "    df['Call Drop Category'],\n",
    "    margins = True\n",
    ")\n",
    "contingency_table"
   ]
  },
  {
   "cell_type": "code",
   "execution_count": 28,
   "metadata": {},
   "outputs": [
    {
     "data": {
      "text/plain": [
       "array([ 4663, 14092, 30273,   634,  1677,  7074], dtype=int64)"
      ]
     },
     "execution_count": 28,
     "metadata": {},
     "output_type": "execute_result"
    }
   ],
   "source": [
    "f_obs = np.append(contingency_table.iloc[0][0:3].values, contingency_table.iloc[1][0:3].values)\n",
    "f_obs"
   ]
  },
  {
   "cell_type": "code",
   "execution_count": 29,
   "metadata": {},
   "outputs": [],
   "source": [
    "f_obs = np.append(f_obs,contingency_table.iloc[2][0:3].values)\n",
    "f_obs = np.append(f_obs,contingency_table.iloc[3][0:3].values)\n",
    "f_obs = np.append(f_obs,contingency_table.iloc[4][0:3].values)\n",
    "f_obs = np.append(f_obs,contingency_table.iloc[5][0:3].values)\n",
    "f_obs = np.append(f_obs,contingency_table.iloc[6][0:3].values)\n",
    "f_obs = np.append(f_obs,contingency_table.iloc[7][0:3].values)"
   ]
  },
  {
   "cell_type": "code",
   "execution_count": 30,
   "metadata": {},
   "outputs": [
    {
     "data": {
      "text/plain": [
       "array([ 4663, 14092, 30273,   634,  1677,  7074,  1257,  4443,  7879,\n",
       "          48,    40,   241,    27,   677,   345,  5649, 19226, 66355,\n",
       "          11,    35,    34,     1,     4,     5], dtype=int64)"
      ]
     },
     "execution_count": 30,
     "metadata": {},
     "output_type": "execute_result"
    }
   ],
   "source": [
    "f_obs"
   ]
  },
  {
   "cell_type": "code",
   "execution_count": 10,
   "metadata": {},
   "outputs": [
    {
     "data": {
      "text/plain": [
       "array([49028,  9385, 13579,   329,  1049, 91230,    80,    10],\n",
       "      dtype=int64)"
      ]
     },
     "execution_count": 10,
     "metadata": {},
     "output_type": "execute_result"
    }
   ],
   "source": [
    "row_sums = contingency_table.iloc[0:8,3].values\n",
    "row_sums"
   ]
  },
  {
   "cell_type": "code",
   "execution_count": 11,
   "metadata": {},
   "outputs": [
    {
     "data": {
      "text/plain": [
       "array([ 1847,  8334, 21759], dtype=int64)"
      ]
     },
     "execution_count": 11,
     "metadata": {},
     "output_type": "execute_result"
    }
   ],
   "source": [
    "col_sums = contingency_table.iloc[8,0:3].values\n",
    "col_sums"
   ]
  },
  {
   "cell_type": "code",
   "execution_count": 12,
   "metadata": {},
   "outputs": [
    {
     "data": {
      "text/plain": [
       "[460.5335706657173,\n",
       " 2078.011249555002,\n",
       " 5425.41957992168,\n",
       " 88.15590194782078,\n",
       " 397.7754666124193,\n",
       " 1038.5404821237858,\n",
       " 127.55130448049637,\n",
       " 575.5346895183848,\n",
       " 1502.6469053552357,\n",
       " 3.090388038447846,\n",
       " 13.94439302242791,\n",
       " 36.40701317194731,\n",
       " 9.8535472715252,\n",
       " 44.46099781315161,\n",
       " 116.08193561511469,\n",
       " 856.9486344911763,\n",
       " 3866.7081320246148,\n",
       " 10095.476631236332,\n",
       " 0.7514621370085949,\n",
       " 3.390733865635966,\n",
       " 8.85276916035193,\n",
       " 0.09393276712607436,\n",
       " 0.42384173320449575,\n",
       " 1.1065961450439912]"
      ]
     },
     "execution_count": 12,
     "metadata": {},
     "output_type": "execute_result"
    }
   ],
   "source": [
    "total = contingency_table.loc['All', 'All']\n",
    "\n",
    "f_expected = []\n",
    "for j in range(8):\n",
    "    for i in col_sums:\n",
    "        f_expected.append(i*row_sums[j]/total)\n",
    "f_expected"
   ]
  },
  {
   "cell_type": "code",
   "execution_count": 13,
   "metadata": {},
   "outputs": [
    {
     "name": "stdout",
     "output_type": "stream",
     "text": [
      "Degrees of Freedom: 14\n"
     ]
    }
   ],
   "source": [
    "dof = (len(row_sums)-1)*(len(col_sums)-1)\n",
    "print(\"Degrees of Freedom: {}\".format(dof))"
   ]
  },
  {
   "cell_type": "markdown",
   "metadata": {},
   "source": [
    "DoF=(Number of rows−1)∗(Number of columns−1)"
   ]
  },
  {
   "cell_type": "code",
   "execution_count": 31,
   "metadata": {},
   "outputs": [
    {
     "data": {
      "text/plain": [
       "array([ 4663, 14092, 30273,   634,  1677,  7074,  1257,  4443,  7879,\n",
       "          48,    40,   241,    27,   677,   345,  5649, 19226, 66355,\n",
       "          11,    35,    34,     1,     4,     5], dtype=int64)"
      ]
     },
     "execution_count": 31,
     "metadata": {},
     "output_type": "execute_result"
    }
   ],
   "source": [
    "f_obs"
   ]
  },
  {
   "cell_type": "code",
   "execution_count": 32,
   "metadata": {},
   "outputs": [
    {
     "name": "stdout",
     "output_type": "stream",
     "text": [
      "Chi-squared Statistic: 740437.8688552484\n"
     ]
    }
   ],
   "source": [
    "chi_squared_statistic = ((f_obs - f_expected)**2/f_expected).sum()\n",
    "print('Chi-squared Statistic: {}'.format(chi_squared_statistic))"
   ]
  },
  {
   "cell_type": "code",
   "execution_count": 3,
   "metadata": {},
   "outputs": [
    {
     "name": "stdout",
     "output_type": "stream",
     "text": [
      "critical_value: 23.684791304840576\n"
     ]
    }
   ],
   "source": [
    "from scipy.stats import chi2\n",
    "alpha=0.05\n",
    "dof=14\n",
    "critical_value=chi2.ppf(q=1-alpha,df=dof)\n",
    "print('critical_value:',critical_value)"
   ]
  },
  {
   "cell_type": "markdown",
   "metadata": {},
   "source": [
    "X^2=(observed−expected)^2 / (expected)\n",
    "\n",
    "Since it is very high p will be very less than 0.05(close to zero) so call drop quality and operator are statistically dependant"
   ]
  }
 ],
 "metadata": {
  "kernelspec": {
   "display_name": "Python 3",
   "language": "python",
   "name": "python3"
  },
  "language_info": {
   "codemirror_mode": {
    "name": "ipython",
    "version": 3
   },
   "file_extension": ".py",
   "mimetype": "text/x-python",
   "name": "python",
   "nbconvert_exporter": "python",
   "pygments_lexer": "ipython3",
   "version": "3.7.4"
  }
 },
 "nbformat": 4,
 "nbformat_minor": 2
}
