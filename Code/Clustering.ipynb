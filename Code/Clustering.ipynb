{
 "cells": [
  {
   "cell_type": "code",
   "execution_count": 1,
   "metadata": {},
   "outputs": [],
   "source": [
    "import numpy as np\n",
    "import pandas as pd\n",
    "df = pd.read_csv('7.csv')"
   ]
  },
  {
   "cell_type": "code",
   "execution_count": 2,
   "metadata": {},
   "outputs": [
    {
     "data": {
      "text/html": [
       "<div>\n",
       "<style scoped>\n",
       "    .dataframe tbody tr th:only-of-type {\n",
       "        vertical-align: middle;\n",
       "    }\n",
       "\n",
       "    .dataframe tbody tr th {\n",
       "        vertical-align: top;\n",
       "    }\n",
       "\n",
       "    .dataframe thead th {\n",
       "        text-align: right;\n",
       "    }\n",
       "</style>\n",
       "<table border=\"1\" class=\"dataframe\">\n",
       "  <thead>\n",
       "    <tr style=\"text-align: right;\">\n",
       "      <th></th>\n",
       "      <th>Unnamed: 0</th>\n",
       "      <th>Operator</th>\n",
       "      <th>Network Type</th>\n",
       "      <th>In Out Travelling</th>\n",
       "      <th>State Name</th>\n",
       "      <th>Call Dropped</th>\n",
       "      <th>Satisfactory</th>\n",
       "      <th>Poor Voice Quality</th>\n",
       "      <th>label</th>\n",
       "    </tr>\n",
       "  </thead>\n",
       "  <tbody>\n",
       "    <tr>\n",
       "      <td>0</td>\n",
       "      <td>0</td>\n",
       "      <td>Airtel</td>\n",
       "      <td>2G</td>\n",
       "      <td>Indoor</td>\n",
       "      <td>Andhra Pradesh</td>\n",
       "      <td>35.714286</td>\n",
       "      <td>46.428571</td>\n",
       "      <td>17.857143</td>\n",
       "      <td>Average</td>\n",
       "    </tr>\n",
       "    <tr>\n",
       "      <td>1</td>\n",
       "      <td>1</td>\n",
       "      <td>Airtel</td>\n",
       "      <td>2G</td>\n",
       "      <td>Indoor</td>\n",
       "      <td>Assam</td>\n",
       "      <td>0.000000</td>\n",
       "      <td>66.666667</td>\n",
       "      <td>33.333333</td>\n",
       "      <td>Very Good</td>\n",
       "    </tr>\n",
       "    <tr>\n",
       "      <td>2</td>\n",
       "      <td>2</td>\n",
       "      <td>Airtel</td>\n",
       "      <td>2G</td>\n",
       "      <td>Indoor</td>\n",
       "      <td>Bihar</td>\n",
       "      <td>0.000000</td>\n",
       "      <td>53.846154</td>\n",
       "      <td>46.153846</td>\n",
       "      <td>Average</td>\n",
       "    </tr>\n",
       "    <tr>\n",
       "      <td>3</td>\n",
       "      <td>3</td>\n",
       "      <td>Airtel</td>\n",
       "      <td>2G</td>\n",
       "      <td>Indoor</td>\n",
       "      <td>Delhi</td>\n",
       "      <td>5.555556</td>\n",
       "      <td>27.777778</td>\n",
       "      <td>66.666667</td>\n",
       "      <td>Poor</td>\n",
       "    </tr>\n",
       "    <tr>\n",
       "      <td>4</td>\n",
       "      <td>4</td>\n",
       "      <td>Airtel</td>\n",
       "      <td>2G</td>\n",
       "      <td>Indoor</td>\n",
       "      <td>Gujarat</td>\n",
       "      <td>2.816901</td>\n",
       "      <td>88.732394</td>\n",
       "      <td>8.450704</td>\n",
       "      <td>Excellent</td>\n",
       "    </tr>\n",
       "    <tr>\n",
       "      <td>...</td>\n",
       "      <td>...</td>\n",
       "      <td>...</td>\n",
       "      <td>...</td>\n",
       "      <td>...</td>\n",
       "      <td>...</td>\n",
       "      <td>...</td>\n",
       "      <td>...</td>\n",
       "      <td>...</td>\n",
       "      <td>...</td>\n",
       "    </tr>\n",
       "    <tr>\n",
       "      <td>987</td>\n",
       "      <td>987</td>\n",
       "      <td>Vodafone</td>\n",
       "      <td>4G</td>\n",
       "      <td>Travelling</td>\n",
       "      <td>Tamil Nadu</td>\n",
       "      <td>1.104972</td>\n",
       "      <td>90.607735</td>\n",
       "      <td>8.287293</td>\n",
       "      <td>Excellent</td>\n",
       "    </tr>\n",
       "    <tr>\n",
       "      <td>988</td>\n",
       "      <td>988</td>\n",
       "      <td>Vodafone</td>\n",
       "      <td>4G</td>\n",
       "      <td>Travelling</td>\n",
       "      <td>Telangana</td>\n",
       "      <td>7.894737</td>\n",
       "      <td>81.578947</td>\n",
       "      <td>10.526316</td>\n",
       "      <td>Excellent</td>\n",
       "    </tr>\n",
       "    <tr>\n",
       "      <td>989</td>\n",
       "      <td>989</td>\n",
       "      <td>Vodafone</td>\n",
       "      <td>4G</td>\n",
       "      <td>Travelling</td>\n",
       "      <td>Uttar Pradesh</td>\n",
       "      <td>5.084746</td>\n",
       "      <td>47.457627</td>\n",
       "      <td>47.457627</td>\n",
       "      <td>Average</td>\n",
       "    </tr>\n",
       "    <tr>\n",
       "      <td>990</td>\n",
       "      <td>990</td>\n",
       "      <td>Vodafone</td>\n",
       "      <td>4G</td>\n",
       "      <td>Travelling</td>\n",
       "      <td>Uttarakhand</td>\n",
       "      <td>40.000000</td>\n",
       "      <td>0.000000</td>\n",
       "      <td>60.000000</td>\n",
       "      <td>Inadequate</td>\n",
       "    </tr>\n",
       "    <tr>\n",
       "      <td>991</td>\n",
       "      <td>991</td>\n",
       "      <td>Vodafone</td>\n",
       "      <td>4G</td>\n",
       "      <td>Travelling</td>\n",
       "      <td>West Bengal</td>\n",
       "      <td>4.919908</td>\n",
       "      <td>78.947368</td>\n",
       "      <td>16.132723</td>\n",
       "      <td>Very Good</td>\n",
       "    </tr>\n",
       "  </tbody>\n",
       "</table>\n",
       "<p>992 rows × 9 columns</p>\n",
       "</div>"
      ],
      "text/plain": [
       "     Unnamed: 0  Operator Network Type In Out Travelling      State Name  \\\n",
       "0             0    Airtel           2G            Indoor  Andhra Pradesh   \n",
       "1             1    Airtel           2G            Indoor           Assam   \n",
       "2             2    Airtel           2G            Indoor           Bihar   \n",
       "3             3    Airtel           2G            Indoor           Delhi   \n",
       "4             4    Airtel           2G            Indoor         Gujarat   \n",
       "..          ...       ...          ...               ...             ...   \n",
       "987         987  Vodafone           4G        Travelling      Tamil Nadu   \n",
       "988         988  Vodafone           4G        Travelling       Telangana   \n",
       "989         989  Vodafone           4G        Travelling   Uttar Pradesh   \n",
       "990         990  Vodafone           4G        Travelling     Uttarakhand   \n",
       "991         991  Vodafone           4G        Travelling     West Bengal   \n",
       "\n",
       "     Call Dropped  Satisfactory  Poor Voice Quality       label  \n",
       "0       35.714286     46.428571           17.857143     Average  \n",
       "1        0.000000     66.666667           33.333333   Very Good  \n",
       "2        0.000000     53.846154           46.153846     Average  \n",
       "3        5.555556     27.777778           66.666667        Poor  \n",
       "4        2.816901     88.732394            8.450704   Excellent  \n",
       "..            ...           ...                 ...         ...  \n",
       "987      1.104972     90.607735            8.287293   Excellent  \n",
       "988      7.894737     81.578947           10.526316   Excellent  \n",
       "989      5.084746     47.457627           47.457627     Average  \n",
       "990     40.000000      0.000000           60.000000  Inadequate  \n",
       "991      4.919908     78.947368           16.132723   Very Good  \n",
       "\n",
       "[992 rows x 9 columns]"
      ]
     },
     "execution_count": 2,
     "metadata": {},
     "output_type": "execute_result"
    }
   ],
   "source": [
    "df"
   ]
  },
  {
   "cell_type": "code",
   "execution_count": 3,
   "metadata": {},
   "outputs": [],
   "source": [
    "df1 = df[df['Operator']=='Airtel']"
   ]
  },
  {
   "cell_type": "code",
   "execution_count": 4,
   "metadata": {},
   "outputs": [
    {
     "data": {
      "text/html": [
       "<div>\n",
       "<style scoped>\n",
       "    .dataframe tbody tr th:only-of-type {\n",
       "        vertical-align: middle;\n",
       "    }\n",
       "\n",
       "    .dataframe tbody tr th {\n",
       "        vertical-align: top;\n",
       "    }\n",
       "\n",
       "    .dataframe thead th {\n",
       "        text-align: right;\n",
       "    }\n",
       "</style>\n",
       "<table border=\"1\" class=\"dataframe\">\n",
       "  <thead>\n",
       "    <tr style=\"text-align: right;\">\n",
       "      <th></th>\n",
       "      <th>Unnamed: 0</th>\n",
       "      <th>Operator</th>\n",
       "      <th>Network Type</th>\n",
       "      <th>In Out Travelling</th>\n",
       "      <th>State Name</th>\n",
       "      <th>Call Dropped</th>\n",
       "      <th>Satisfactory</th>\n",
       "      <th>Poor Voice Quality</th>\n",
       "      <th>label</th>\n",
       "    </tr>\n",
       "  </thead>\n",
       "  <tbody>\n",
       "    <tr>\n",
       "      <td>0</td>\n",
       "      <td>0</td>\n",
       "      <td>Airtel</td>\n",
       "      <td>2G</td>\n",
       "      <td>Indoor</td>\n",
       "      <td>Andhra Pradesh</td>\n",
       "      <td>35.714286</td>\n",
       "      <td>46.428571</td>\n",
       "      <td>17.857143</td>\n",
       "      <td>Average</td>\n",
       "    </tr>\n",
       "    <tr>\n",
       "      <td>1</td>\n",
       "      <td>1</td>\n",
       "      <td>Airtel</td>\n",
       "      <td>2G</td>\n",
       "      <td>Indoor</td>\n",
       "      <td>Assam</td>\n",
       "      <td>0.000000</td>\n",
       "      <td>66.666667</td>\n",
       "      <td>33.333333</td>\n",
       "      <td>Very Good</td>\n",
       "    </tr>\n",
       "    <tr>\n",
       "      <td>2</td>\n",
       "      <td>2</td>\n",
       "      <td>Airtel</td>\n",
       "      <td>2G</td>\n",
       "      <td>Indoor</td>\n",
       "      <td>Bihar</td>\n",
       "      <td>0.000000</td>\n",
       "      <td>53.846154</td>\n",
       "      <td>46.153846</td>\n",
       "      <td>Average</td>\n",
       "    </tr>\n",
       "    <tr>\n",
       "      <td>3</td>\n",
       "      <td>3</td>\n",
       "      <td>Airtel</td>\n",
       "      <td>2G</td>\n",
       "      <td>Indoor</td>\n",
       "      <td>Delhi</td>\n",
       "      <td>5.555556</td>\n",
       "      <td>27.777778</td>\n",
       "      <td>66.666667</td>\n",
       "      <td>Poor</td>\n",
       "    </tr>\n",
       "    <tr>\n",
       "      <td>4</td>\n",
       "      <td>4</td>\n",
       "      <td>Airtel</td>\n",
       "      <td>2G</td>\n",
       "      <td>Indoor</td>\n",
       "      <td>Gujarat</td>\n",
       "      <td>2.816901</td>\n",
       "      <td>88.732394</td>\n",
       "      <td>8.450704</td>\n",
       "      <td>Excellent</td>\n",
       "    </tr>\n",
       "    <tr>\n",
       "      <td>...</td>\n",
       "      <td>...</td>\n",
       "      <td>...</td>\n",
       "      <td>...</td>\n",
       "      <td>...</td>\n",
       "      <td>...</td>\n",
       "      <td>...</td>\n",
       "      <td>...</td>\n",
       "      <td>...</td>\n",
       "      <td>...</td>\n",
       "    </tr>\n",
       "    <tr>\n",
       "      <td>215</td>\n",
       "      <td>215</td>\n",
       "      <td>Airtel</td>\n",
       "      <td>4G</td>\n",
       "      <td>Travelling</td>\n",
       "      <td>Telangana</td>\n",
       "      <td>3.519062</td>\n",
       "      <td>41.202346</td>\n",
       "      <td>55.278592</td>\n",
       "      <td>Average</td>\n",
       "    </tr>\n",
       "    <tr>\n",
       "      <td>216</td>\n",
       "      <td>216</td>\n",
       "      <td>Airtel</td>\n",
       "      <td>4G</td>\n",
       "      <td>Travelling</td>\n",
       "      <td>Tripura</td>\n",
       "      <td>0.000000</td>\n",
       "      <td>30.000000</td>\n",
       "      <td>70.000000</td>\n",
       "      <td>Poor</td>\n",
       "    </tr>\n",
       "    <tr>\n",
       "      <td>217</td>\n",
       "      <td>217</td>\n",
       "      <td>Airtel</td>\n",
       "      <td>4G</td>\n",
       "      <td>Travelling</td>\n",
       "      <td>Uttar Pradesh</td>\n",
       "      <td>12.324930</td>\n",
       "      <td>61.344538</td>\n",
       "      <td>26.330532</td>\n",
       "      <td>Very Good</td>\n",
       "    </tr>\n",
       "    <tr>\n",
       "      <td>218</td>\n",
       "      <td>218</td>\n",
       "      <td>Airtel</td>\n",
       "      <td>4G</td>\n",
       "      <td>Travelling</td>\n",
       "      <td>Uttarakhand</td>\n",
       "      <td>0.487805</td>\n",
       "      <td>95.609756</td>\n",
       "      <td>3.902439</td>\n",
       "      <td>Excellent</td>\n",
       "    </tr>\n",
       "    <tr>\n",
       "      <td>219</td>\n",
       "      <td>219</td>\n",
       "      <td>Airtel</td>\n",
       "      <td>4G</td>\n",
       "      <td>Travelling</td>\n",
       "      <td>West Bengal</td>\n",
       "      <td>5.641026</td>\n",
       "      <td>71.282051</td>\n",
       "      <td>23.076923</td>\n",
       "      <td>Very Good</td>\n",
       "    </tr>\n",
       "  </tbody>\n",
       "</table>\n",
       "<p>220 rows × 9 columns</p>\n",
       "</div>"
      ],
      "text/plain": [
       "     Unnamed: 0 Operator Network Type In Out Travelling      State Name  \\\n",
       "0             0   Airtel           2G            Indoor  Andhra Pradesh   \n",
       "1             1   Airtel           2G            Indoor           Assam   \n",
       "2             2   Airtel           2G            Indoor           Bihar   \n",
       "3             3   Airtel           2G            Indoor           Delhi   \n",
       "4             4   Airtel           2G            Indoor         Gujarat   \n",
       "..          ...      ...          ...               ...             ...   \n",
       "215         215   Airtel           4G        Travelling       Telangana   \n",
       "216         216   Airtel           4G        Travelling         Tripura   \n",
       "217         217   Airtel           4G        Travelling   Uttar Pradesh   \n",
       "218         218   Airtel           4G        Travelling     Uttarakhand   \n",
       "219         219   Airtel           4G        Travelling     West Bengal   \n",
       "\n",
       "     Call Dropped  Satisfactory  Poor Voice Quality      label  \n",
       "0       35.714286     46.428571           17.857143    Average  \n",
       "1        0.000000     66.666667           33.333333  Very Good  \n",
       "2        0.000000     53.846154           46.153846    Average  \n",
       "3        5.555556     27.777778           66.666667       Poor  \n",
       "4        2.816901     88.732394            8.450704  Excellent  \n",
       "..            ...           ...                 ...        ...  \n",
       "215      3.519062     41.202346           55.278592    Average  \n",
       "216      0.000000     30.000000           70.000000       Poor  \n",
       "217     12.324930     61.344538           26.330532  Very Good  \n",
       "218      0.487805     95.609756            3.902439  Excellent  \n",
       "219      5.641026     71.282051           23.076923  Very Good  \n",
       "\n",
       "[220 rows x 9 columns]"
      ]
     },
     "execution_count": 4,
     "metadata": {},
     "output_type": "execute_result"
    }
   ],
   "source": [
    "df1"
   ]
  },
  {
   "cell_type": "code",
   "execution_count": 59,
   "metadata": {},
   "outputs": [
    {
     "name": "stderr",
     "output_type": "stream",
     "text": [
      "C:\\Users\\Mohan\\Anaconda3\\lib\\site-packages\\ipykernel_launcher.py:7: SettingWithCopyWarning: \n",
      "A value is trying to be set on a copy of a slice from a DataFrame.\n",
      "Try using .loc[row_indexer,col_indexer] = value instead\n",
      "\n",
      "See the caveats in the documentation: http://pandas.pydata.org/pandas-docs/stable/user_guide/indexing.html#returning-a-view-versus-a-copy\n",
      "  import sys\n"
     ]
    },
    {
     "data": {
      "text/plain": [
       "<matplotlib.collections.PathCollection at 0x12133146308>"
      ]
     },
     "execution_count": 59,
     "metadata": {},
     "output_type": "execute_result"
    },
    {
     "data": {
      "image/png": "[encoded data removed]",
      "text/plain": [
       "<Figure size 432x288 with 1 Axes>"
      ]
     },
     "metadata": {
      "needs_background": "light"
     },
     "output_type": "display_data"
    }
   ],
   "source": [
    "from copy import deepcopy\n",
    "from matplotlib import pyplot as plt\n",
    "%matplotlib inline\n",
    "center_1 = np.array([1,1])\n",
    "center_2 = np.array([5,5])\n",
    "center_3 = np.array([8,1])\n",
    "df1['unsatisfactory'] = df1['Call Dropped']+df1['Poor Voice Quality'] \n",
    "\n",
    "data_1 = np.zeros(220)\n",
    "data_2 = np.array(list(df1['Satisfactory']))\n",
    "data_3 = np.column_stack((data_2,data_1))\n",
    "plt.scatter(data_3[:,0],data_3[:,1], s=10)"
   ]
  },
  {
   "cell_type": "code",
   "execution_count": 56,
   "metadata": {},
   "outputs": [
    {
     "data": {
      "text/plain": [
       "<matplotlib.collections.PathCollection at 0x12133072d48>"
      ]
     },
     "execution_count": 56,
     "metadata": {},
     "output_type": "execute_result"
    },
    {
     "data": {
      "image/png": "[encoded data removed]",
      "text/plain": [
       "<Figure size 432x288 with 1 Axes>"
      ]
     },
     "metadata": {
      "needs_background": "light"
     },
     "output_type": "display_data"
    }
   ],
   "source": [
    "k = 3\n",
    "# Number of training data\n",
    "n = data_3.shape[0]\n",
    "# Number of features in the data\n",
    "c = data_3.shape[1]\n",
    "\n",
    "# Generate random centers, here we use sigma and mean to ensure it represent the whole data\n",
    "mean = np.mean(data_3, axis = 0)\n",
    "std = np.std(data_3, axis = 0)\n",
    "centers = np.random.randn(k,c)*std + mean\n",
    "\n",
    "# Plot the data and the centers generated as random\n",
    "plt.scatter(data_3[:,0], data_3[:,1], s=7)\n",
    "plt.scatter(centers[:,0], centers[:,1], marker='*', c='g', s=150)"
   ]
  },
  {
   "cell_type": "code",
   "execution_count": 57,
   "metadata": {},
   "outputs": [
    {
     "data": {
      "text/plain": [
       "array([[ 48.8541801 ,  99.63333333],\n",
       "       [ 83.80547387,   7.2       ],\n",
       "       [ 72.95258641, 202.8       ]])"
      ]
     },
     "execution_count": 57,
     "metadata": {},
     "output_type": "execute_result"
    }
   ],
   "source": [
    "centers_old = np.zeros(centers.shape) # to store old centers\n",
    "centers_new = deepcopy(centers) # Store new centers\n",
    "\n",
    "data.shape\n",
    "clusters = np.zeros(n)\n",
    "distances = np.zeros((n,k))\n",
    "\n",
    "error = np.linalg.norm(centers_new - centers_old)\n",
    "\n",
    "# When, after an update, the estimate of that center stays the same, exit loop\n",
    "while error != 0:\n",
    "    # Measure the distance to every center\n",
    "    for i in range(k):\n",
    "        distances[:,i] = np.linalg.norm(data_3 - centers[i], axis=1)\n",
    "    # Assign all training data to closest center\n",
    "    clusters = np.argmin(distances, axis = 1)\n",
    "    \n",
    "    centers_old = deepcopy(centers_new)\n",
    "    # Calculate mean for every cluster and update the center\n",
    "    for i in range(k):\n",
    "        centers_new[i] = np.mean(data_3[clusters == i], axis=0)\n",
    "    error = np.linalg.norm(centers_new - centers_old)\n",
    "centers_new \n"
   ]
  },
  {
   "cell_type": "code",
   "execution_count": 58,
   "metadata": {},
   "outputs": [
    {
     "data": {
      "text/plain": [
       "<matplotlib.collections.PathCollection at 0x121330e0708>"
      ]
     },
     "execution_count": 58,
     "metadata": {},
     "output_type": "execute_result"
    },
    {
     "data": {
      "image/png": "[encoded data removed]",
      "text/plain": [
       "<Figure size 432x288 with 1 Axes>"
      ]
     },
     "metadata": {
      "needs_background": "light"
     },
     "output_type": "display_data"
    }
   ],
   "source": [
    "plt.scatter(data_3[:,0], data_3[:,1], s=7)\n",
    "plt.scatter(centers_new[:,0], centers_new[:,1], marker='*', c='g', s=150)"
   ]
  },
  {
   "cell_type": "code",
   "execution_count": 65,
   "metadata": {},
   "outputs": [
    {
     "data": {
      "image/png": "[encoded data removed]",
      "text/plain": [
       "<Figure size 432x288 with 1 Axes>"
      ]
     },
     "metadata": {
      "needs_background": "light"
     },
     "output_type": "display_data"
    }
   ],
   "source": [
    "from scipy.stats import kde\n",
    "import matplotlib.pyplot as plt \n",
    "x = np.array(list(df1['unsatisfactory']))\n",
    "density = kde.gaussian_kde(x) # x: list of price\n",
    "xgrid = np.linspace(x.min(), x.max(), 220)   \n",
    "plt.plot(xgrid, density(xgrid))\n",
    "plt.show()"
   ]
  },
  {
   "cell_type": "code",
   "execution_count": null,
   "metadata": {},
   "outputs": [],
   "source": []
  }
 ],
 "metadata": {
  "kernelspec": {
   "display_name": "Python 3",
   "language": "python",
   "name": "python3"
  },
  "language_info": {
   "codemirror_mode": {
    "name": "ipython",
    "version": 3
   },
   "file_extension": ".py",
   "mimetype": "text/x-python",
   "name": "python",
   "nbconvert_exporter": "python",
   "pygments_lexer": "ipython3",
   "version": "3.7.4"
  }
 },
 "nbformat": 4,
 "nbformat_minor": 2
}
