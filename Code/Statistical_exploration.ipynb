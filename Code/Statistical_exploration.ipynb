{
 "cells": [
  {
   "cell_type": "code",
   "execution_count": 1,
   "metadata": {},
   "outputs": [],
   "source": [
    "import pandas as pd"
   ]
  },
  {
   "cell_type": "code",
   "execution_count": 2,
   "metadata": {},
   "outputs": [],
   "source": [
    "df= pd.read_csv(\"..//Data/Final_data.csv\")"
   ]
  },
  {
   "cell_type": "code",
   "execution_count": 12,
   "metadata": {},
   "outputs": [
    {
     "data": {
      "text/html": [
       "<div>\n",
       "<style scoped>\n",
       "    .dataframe tbody tr th:only-of-type {\n",
       "        vertical-align: middle;\n",
       "    }\n",
       "\n",
       "    .dataframe tbody tr th {\n",
       "        vertical-align: top;\n",
       "    }\n",
       "\n",
       "    .dataframe thead th {\n",
       "        text-align: right;\n",
       "    }\n",
       "</style>\n",
       "<table border=\"1\" class=\"dataframe\">\n",
       "  <thead>\n",
       "    <tr style=\"text-align: right;\">\n",
       "      <th></th>\n",
       "      <th>State Name</th>\n",
       "      <th>Operator</th>\n",
       "      <th>Network Type</th>\n",
       "      <th>In Out Travelling</th>\n",
       "    </tr>\n",
       "  </thead>\n",
       "  <tbody>\n",
       "    <tr>\n",
       "      <td>count</td>\n",
       "      <td>196630</td>\n",
       "      <td>196630</td>\n",
       "      <td>196630</td>\n",
       "      <td>195435</td>\n",
       "    </tr>\n",
       "    <tr>\n",
       "      <td>unique</td>\n",
       "      <td>34</td>\n",
       "      <td>9</td>\n",
       "      <td>3</td>\n",
       "      <td>3</td>\n",
       "    </tr>\n",
       "    <tr>\n",
       "      <td>top</td>\n",
       "      <td>Maharashtra</td>\n",
       "      <td>RJio</td>\n",
       "      <td>4G</td>\n",
       "      <td>Indoor</td>\n",
       "    </tr>\n",
       "    <tr>\n",
       "      <td>freq</td>\n",
       "      <td>41604</td>\n",
       "      <td>91230</td>\n",
       "      <td>159642</td>\n",
       "      <td>113347</td>\n",
       "    </tr>\n",
       "  </tbody>\n",
       "</table>\n",
       "</div>"
      ],
      "text/plain": [
       "         State Name Operator Network Type In Out Travelling\n",
       "count        196630   196630       196630            195435\n",
       "unique           34        9            3                 3\n",
       "top     Maharashtra     RJio           4G            Indoor\n",
       "freq          41604    91230       159642            113347"
      ]
     },
     "execution_count": 12,
     "metadata": {},
     "output_type": "execute_result"
    }
   ],
   "source": [
    "df[['State Name','Operator','Network Type','In Out Travelling']].describe()"
   ]
  },
  {
   "cell_type": "code",
   "execution_count": 9,
   "metadata": {},
   "outputs": [
    {
     "data": {
      "text/html": [
       "<div>\n",
       "<style scoped>\n",
       "    .dataframe tbody tr th:only-of-type {\n",
       "        vertical-align: middle;\n",
       "    }\n",
       "\n",
       "    .dataframe tbody tr th {\n",
       "        vertical-align: top;\n",
       "    }\n",
       "\n",
       "    .dataframe thead th {\n",
       "        text-align: right;\n",
       "    }\n",
       "</style>\n",
       "<table border=\"1\" class=\"dataframe\">\n",
       "  <thead>\n",
       "    <tr style=\"text-align: right;\">\n",
       "      <th></th>\n",
       "      <th>Unnamed: 0</th>\n",
       "      <th>Operator</th>\n",
       "      <th>Network Type</th>\n",
       "      <th>In Out Travelling</th>\n",
       "      <th>Call Drop Category</th>\n",
       "      <th>State Name</th>\n",
       "      <th>Latitude</th>\n",
       "      <th>Longitude</th>\n",
       "    </tr>\n",
       "  </thead>\n",
       "  <tbody>\n",
       "    <tr>\n",
       "      <td>0</td>\n",
       "      <td>0</td>\n",
       "      <td>Idea</td>\n",
       "      <td>3G</td>\n",
       "      <td>Indoor</td>\n",
       "      <td>Poor Voice Quality</td>\n",
       "      <td>Maharashtra</td>\n",
       "      <td>19</td>\n",
       "      <td>72</td>\n",
       "    </tr>\n",
       "    <tr>\n",
       "      <td>1</td>\n",
       "      <td>1</td>\n",
       "      <td>Idea</td>\n",
       "      <td>4G</td>\n",
       "      <td>Outdoor</td>\n",
       "      <td>Poor Voice Quality</td>\n",
       "      <td>Maharashtra</td>\n",
       "      <td>19</td>\n",
       "      <td>72</td>\n",
       "    </tr>\n",
       "    <tr>\n",
       "      <td>2</td>\n",
       "      <td>2</td>\n",
       "      <td>Idea</td>\n",
       "      <td>4G</td>\n",
       "      <td>Indoor</td>\n",
       "      <td>Satisfactory</td>\n",
       "      <td>Maharashtra</td>\n",
       "      <td>19</td>\n",
       "      <td>72</td>\n",
       "    </tr>\n",
       "    <tr>\n",
       "      <td>3</td>\n",
       "      <td>3</td>\n",
       "      <td>RJio</td>\n",
       "      <td>4G</td>\n",
       "      <td>Outdoor</td>\n",
       "      <td>Satisfactory</td>\n",
       "      <td>Uttarakhand</td>\n",
       "      <td>30</td>\n",
       "      <td>78</td>\n",
       "    </tr>\n",
       "    <tr>\n",
       "      <td>4</td>\n",
       "      <td>4</td>\n",
       "      <td>RJio</td>\n",
       "      <td>4G</td>\n",
       "      <td>Outdoor</td>\n",
       "      <td>Satisfactory</td>\n",
       "      <td>Uttarakhand</td>\n",
       "      <td>30</td>\n",
       "      <td>78</td>\n",
       "    </tr>\n",
       "  </tbody>\n",
       "</table>\n",
       "</div>"
      ],
      "text/plain": [
       "   Unnamed: 0 Operator Network Type In Out Travelling  Call Drop Category  \\\n",
       "0           0     Idea           3G            Indoor  Poor Voice Quality   \n",
       "1           1     Idea           4G           Outdoor  Poor Voice Quality   \n",
       "2           2     Idea           4G            Indoor        Satisfactory   \n",
       "3           3     RJio           4G           Outdoor        Satisfactory   \n",
       "4           4     RJio           4G           Outdoor        Satisfactory   \n",
       "\n",
       "    State Name  Latitude  Longitude  \n",
       "0  Maharashtra        19         72  \n",
       "1  Maharashtra        19         72  \n",
       "2  Maharashtra        19         72  \n",
       "3  Uttarakhand        30         78  \n",
       "4  Uttarakhand        30         78  "
      ]
     },
     "execution_count": 9,
     "metadata": {},
     "output_type": "execute_result"
    }
   ],
   "source": [
    "df.head()"
   ]
  },
  {
   "cell_type": "code",
   "execution_count": 11,
   "metadata": {},
   "outputs": [
    {
     "data": {
      "text/plain": [
       "count           196630\n",
       "unique               3\n",
       "top       Satisfactory\n",
       "freq            133965\n",
       "Name: Call Drop Category, dtype: object"
      ]
     },
     "execution_count": 11,
     "metadata": {},
     "output_type": "execute_result"
    }
   ],
   "source": [
    "df['Call Drop Category'].describe()"
   ]
  },
  {
   "cell_type": "code",
   "execution_count": null,
   "metadata": {},
   "outputs": [],
   "source": []
  }
 ],
 "metadata": {
  "kernelspec": {
   "display_name": "Python 3",
   "language": "python",
   "name": "python3"
  },
  "language_info": {
   "codemirror_mode": {
    "name": "ipython",
    "version": 3
   },
   "file_extension": ".py",
   "mimetype": "text/x-python",
   "name": "python",
   "nbconvert_exporter": "python",
   "pygments_lexer": "ipython3",
   "version": "3.7.4"
  }
 },
 "nbformat": 4,
 "nbformat_minor": 2
}
